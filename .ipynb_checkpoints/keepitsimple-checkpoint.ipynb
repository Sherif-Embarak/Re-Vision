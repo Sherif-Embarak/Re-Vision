{
 "cells": [
  {
   "cell_type": "code",
   "execution_count": 1,
   "id": "7674beb7",
   "metadata": {},
   "outputs": [],
   "source": [
    "import pandas as pd\n",
    "import glob\n",
    "import os"
   ]
  },
  {
   "cell_type": "code",
   "execution_count": 2,
   "id": "b0ec71cf",
   "metadata": {},
   "outputs": [],
   "source": [
    "def group(df):\n",
    "    return df.drop_duplicates([\"itemid\",\"property\",\"value\"] , keep='first')\n",
    "\n",
    "def save(df):\n",
    "    df.to_csv(\"out_item_properties.csv\", index=False)\n",
    "    del df\n",
    "    \n",
    "def group_and_stage(fileName):\n",
    "    df = pd.read_csv(fileName)\n",
    "    df = group(df)\n",
    "    df.to_csv(\"stage_\"+fileName, index=False)\n",
    "    \n",
    "def group_and_reshape(fileNames):\n",
    "    li = []\n",
    "    for fileName in fileNames:\n",
    "        df = pd.read_csv(fileName, index_col=None, header=0)\n",
    "        li.append(df)\n",
    "    df = pd.concat(li, axis=0, ignore_index=True)\n",
    "    df = group(df)\n",
    "    # df = df.pivot(index=['itemid','timestamp'] , columns='property' , values='value').reset_index()\n",
    "    return df"
   ]
  },
  {
   "cell_type": "code",
   "execution_count": 3,
   "id": "959f19a8",
   "metadata": {},
   "outputs": [],
   "source": [
    "allCsvs = glob.glob(\"*.csv\")\n",
    "itemPropertiesStartStr = \"item_properties_part\"\n",
    "itemPropertiesFiles = list(filter(lambda x: x.startswith(itemPropertiesStartStr), allCsvs))"
   ]
  },
  {
   "cell_type": "code",
   "execution_count": null,
   "id": "540df16d",
   "metadata": {},
   "outputs": [],
   "source": [
    "for itemPropertiesFile in itemPropertiesFiles:\n",
    "    group_and_stage(itemPropertiesFile)"
   ]
  },
  {
   "cell_type": "code",
   "execution_count": null,
   "id": "2dff66f6",
   "metadata": {},
   "outputs": [],
   "source": [
    "allCsvs = glob.glob(\"*.csv\")\n",
    "stageFiles = list(filter(lambda x: x.startswith(\"stage\"), allCsvs))\n",
    "df = group_and_reshape(stageFiles)\n",
    "save(df)"
   ]
  },
  {
   "cell_type": "code",
   "execution_count": null,
   "id": "bd761160",
   "metadata": {},
   "outputs": [],
   "source": [
    "#delete staging files \n",
    "for fileName in stageFiles:\n",
    "    os.remove(fileName)\n",
    "    print(\"file deleted: \",fileName)"
   ]
  }
 ],
 "metadata": {
  "kernelspec": {
   "display_name": "Python 3 (ipykernel)",
   "language": "python",
   "name": "python3"
  },
  "language_info": {
   "codemirror_mode": {
    "name": "ipython",
    "version": 3
   },
   "file_extension": ".py",
   "mimetype": "text/x-python",
   "name": "python",
   "nbconvert_exporter": "python",
   "pygments_lexer": "ipython3",
   "version": "3.10.5"
  },
  "varInspector": {
   "cols": {
    "lenName": 16,
    "lenType": 16,
    "lenVar": 40
   },
   "kernels_config": {
    "python": {
     "delete_cmd_postfix": "",
     "delete_cmd_prefix": "del ",
     "library": "var_list.py",
     "varRefreshCmd": "print(var_dic_list())"
    },
    "r": {
     "delete_cmd_postfix": ") ",
     "delete_cmd_prefix": "rm(",
     "library": "var_list.r",
     "varRefreshCmd": "cat(var_dic_list()) "
    }
   },
   "position": {
    "height": "353.517px",
    "left": "672.333px",
    "right": "20px",
    "top": "166px",
    "width": "542.333px"
   },
   "types_to_exclude": [
    "module",
    "function",
    "builtin_function_or_method",
    "instance",
    "_Feature"
   ],
   "window_display": true
  }
 },
 "nbformat": 4,
 "nbformat_minor": 5
}
