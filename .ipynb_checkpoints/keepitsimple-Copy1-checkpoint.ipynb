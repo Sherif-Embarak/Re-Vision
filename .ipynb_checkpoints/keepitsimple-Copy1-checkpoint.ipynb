{
 "cells": [
  {
   "cell_type": "code",
   "execution_count": 4,
   "id": "7674beb7",
   "metadata": {},
   "outputs": [],
   "source": [
    "import pandas as pd\n",
    "from datetime import *\n",
    "import numpy as np\n",
    "import glob"
   ]
  },
  {
   "cell_type": "code",
   "execution_count": 17,
   "id": "a9fa9cfe",
   "metadata": {},
   "outputs": [],
   "source": [
    "def group_and_stage(fileName):\n",
    "    df = pd.read_csv(fileName)\n",
    "    df = df.drop_duplicates([\"itemid\",\"property\",\"value\"] , keep='first')\n",
    "    df.to_csv(\"stage_\"+fileName, index=False)\n",
    "    \n",
    "def group_and_store(fileNames):\n",
    "    li = []\n",
    "    for fileName in fileNames:\n",
    "        df = pd.read_csv(fileName, index_col=None, header=0)\n",
    "        li.append(df)\n",
    "    df = pd.concat(li, axis=0, ignore_index=True)\n",
    "    df = df.drop_duplicates([\"itemid\",\"property\",\"value\"] , keep='first')\n",
    "    df.to_csv(\"out_item_properties.csv\", index=False)"
   ]
  },
  {
   "cell_type": "code",
   "execution_count": 8,
   "id": "f8f57ec3",
   "metadata": {},
   "outputs": [],
   "source": [
    "allCsvs = glob.glob(\"*.csv\")\n",
    "itemPropertiesStartStr = \"item_properties_part\"\n",
    "itemPropertiesFiles = list(filter(lambda x: x.startswith(itemPropertiesStartStr), allCsvs))"
   ]
  },
  {
   "cell_type": "code",
   "execution_count": 9,
   "id": "d6f6214d",
   "metadata": {},
   "outputs": [
    {
     "name": "stdout",
     "output_type": "stream",
     "text": [
      "10999999\n",
      "7042064\n",
      "9275903\n",
      "5958844\n"
     ]
    }
   ],
   "source": [
    "for itemPropertiesFile in itemPropertiesFiles:\n",
    "    group_and_stage(itemPropertiesFile)"
   ]
  },
  {
   "cell_type": "code",
   "execution_count": 18,
   "id": "796a3fc0",
   "metadata": {},
   "outputs": [
    {
     "name": "stdout",
     "output_type": "stream",
     "text": [
      "13000908\n",
      "12778737\n"
     ]
    }
   ],
   "source": [
    "allCsvs = glob.glob(\"*.csv\")\n",
    "stageFiles = list(filter(lambda x: x.startswith(\"stage\"), allCsvs))\n",
    "group_and_store(stageFiles)"
   ]
  },
  {
   "cell_type": "code",
   "execution_count": 3,
   "id": "66726800",
   "metadata": {},
   "outputs": [
    {
     "name": "stdout",
     "output_type": "stream",
     "text": [
      "2022-06-12 01:01:32.705356  : Start ...\n",
      "\n",
      "10999999\n",
      "7042064\n",
      "\n",
      "2022-06-12 01:02:44.376531  : End.\n",
      "Execution Time :  0:01:11.671175\n"
     ]
    }
   ],
   "source": [
    "# start = datetime.now()\n",
    "# print(start, \" : Start ...\\n\")\n",
    "# ########################################################\n",
    "# group_and_stage('item_properties_part1.csv')\n",
    "# ########################################################\n",
    "# print()\n",
    "# end = datetime.now()\n",
    "# print(end, \" : End.\")\n",
    "# print(\"Execution Time : \", (end - start))"
   ]
  },
  {
   "cell_type": "code",
   "execution_count": 33,
   "id": "022b6e05",
   "metadata": {},
   "outputs": [],
   "source": [
    "items1  = pd.read_csv('item_properties_part2.csv', usecols=[\"timestamp\"])"
   ]
  },
  {
   "cell_type": "code",
   "execution_count": 31,
   "id": "91bed1b1",
   "metadata": {},
   "outputs": [],
   "source": [
    "items1.drop_duplicates(inplace=True)"
   ]
  },
  {
   "cell_type": "code",
   "execution_count": 32,
   "id": "287624f5",
   "metadata": {},
   "outputs": [
    {
     "data": {
      "text/html": [
       "<div>\n",
       "<style scoped>\n",
       "    .dataframe tbody tr th:only-of-type {\n",
       "        vertical-align: middle;\n",
       "    }\n",
       "\n",
       "    .dataframe tbody tr th {\n",
       "        vertical-align: top;\n",
       "    }\n",
       "\n",
       "    .dataframe thead th {\n",
       "        text-align: right;\n",
       "    }\n",
       "</style>\n",
       "<table border=\"1\" class=\"dataframe\">\n",
       "  <thead>\n",
       "    <tr style=\"text-align: right;\">\n",
       "      <th></th>\n",
       "      <th>index</th>\n",
       "      <th>timestamp</th>\n",
       "    </tr>\n",
       "  </thead>\n",
       "  <tbody>\n",
       "    <tr>\n",
       "      <th>0</th>\n",
       "      <td>15</td>\n",
       "      <td>2015-05-10 03:00:00</td>\n",
       "    </tr>\n",
       "    <tr>\n",
       "      <th>1</th>\n",
       "      <td>3</td>\n",
       "      <td>2015-05-17 03:00:00</td>\n",
       "    </tr>\n",
       "    <tr>\n",
       "      <th>2</th>\n",
       "      <td>12</td>\n",
       "      <td>2015-05-24 03:00:00</td>\n",
       "    </tr>\n",
       "    <tr>\n",
       "      <th>3</th>\n",
       "      <td>0</td>\n",
       "      <td>2015-05-31 03:00:00</td>\n",
       "    </tr>\n",
       "    <tr>\n",
       "      <th>4</th>\n",
       "      <td>44</td>\n",
       "      <td>2015-06-07 03:00:00</td>\n",
       "    </tr>\n",
       "    <tr>\n",
       "      <th>5</th>\n",
       "      <td>74</td>\n",
       "      <td>2015-06-14 03:00:00</td>\n",
       "    </tr>\n",
       "    <tr>\n",
       "      <th>6</th>\n",
       "      <td>2</td>\n",
       "      <td>2015-06-28 03:00:00</td>\n",
       "    </tr>\n",
       "    <tr>\n",
       "      <th>7</th>\n",
       "      <td>75</td>\n",
       "      <td>2015-07-05 03:00:00</td>\n",
       "    </tr>\n",
       "    <tr>\n",
       "      <th>8</th>\n",
       "      <td>32</td>\n",
       "      <td>2015-07-12 03:00:00</td>\n",
       "    </tr>\n",
       "    <tr>\n",
       "      <th>9</th>\n",
       "      <td>52</td>\n",
       "      <td>2015-07-19 03:00:00</td>\n",
       "    </tr>\n",
       "    <tr>\n",
       "      <th>10</th>\n",
       "      <td>7</td>\n",
       "      <td>2015-07-26 03:00:00</td>\n",
       "    </tr>\n",
       "    <tr>\n",
       "      <th>11</th>\n",
       "      <td>6</td>\n",
       "      <td>2015-08-02 03:00:00</td>\n",
       "    </tr>\n",
       "    <tr>\n",
       "      <th>12</th>\n",
       "      <td>8</td>\n",
       "      <td>2015-08-09 03:00:00</td>\n",
       "    </tr>\n",
       "    <tr>\n",
       "      <th>13</th>\n",
       "      <td>1</td>\n",
       "      <td>2015-08-16 03:00:00</td>\n",
       "    </tr>\n",
       "    <tr>\n",
       "      <th>14</th>\n",
       "      <td>40</td>\n",
       "      <td>2015-08-23 03:00:00</td>\n",
       "    </tr>\n",
       "    <tr>\n",
       "      <th>15</th>\n",
       "      <td>126</td>\n",
       "      <td>2015-08-30 03:00:00</td>\n",
       "    </tr>\n",
       "    <tr>\n",
       "      <th>16</th>\n",
       "      <td>28</td>\n",
       "      <td>2015-09-06 03:00:00</td>\n",
       "    </tr>\n",
       "    <tr>\n",
       "      <th>17</th>\n",
       "      <td>78</td>\n",
       "      <td>2015-09-13 03:00:00</td>\n",
       "    </tr>\n",
       "  </tbody>\n",
       "</table>\n",
       "</div>"
      ],
      "text/plain": [
       "    index           timestamp\n",
       "0      15 2015-05-10 03:00:00\n",
       "1       3 2015-05-17 03:00:00\n",
       "2      12 2015-05-24 03:00:00\n",
       "3       0 2015-05-31 03:00:00\n",
       "4      44 2015-06-07 03:00:00\n",
       "5      74 2015-06-14 03:00:00\n",
       "6       2 2015-06-28 03:00:00\n",
       "7      75 2015-07-05 03:00:00\n",
       "8      32 2015-07-12 03:00:00\n",
       "9      52 2015-07-19 03:00:00\n",
       "10      7 2015-07-26 03:00:00\n",
       "11      6 2015-08-02 03:00:00\n",
       "12      8 2015-08-09 03:00:00\n",
       "13      1 2015-08-16 03:00:00\n",
       "14     40 2015-08-23 03:00:00\n",
       "15    126 2015-08-30 03:00:00\n",
       "16     28 2015-09-06 03:00:00\n",
       "17     78 2015-09-13 03:00:00"
      ]
     },
     "execution_count": 32,
     "metadata": {},
     "output_type": "execute_result"
    }
   ],
   "source": [
    "pd.to_datetime(items1['timestamp'],unit='ms').sort_values().reset_index()"
   ]
  },
  {
   "cell_type": "code",
   "execution_count": 5,
   "id": "87d25333",
   "metadata": {},
   "outputs": [],
   "source": [
    "#categoryids = items1[items1.property ==\"categoryid\"].value.tolist()"
   ]
  },
  {
   "cell_type": "code",
   "execution_count": 8,
   "id": "223b9ba0",
   "metadata": {},
   "outputs": [
    {
     "data": {
      "text/plain": [
       "array(['0', '1', '10', ..., '997', '998', '999'], dtype='<U4')"
      ]
     },
     "execution_count": 8,
     "metadata": {},
     "output_type": "execute_result"
    }
   ],
   "source": [
    "np.unique(categoryids)"
   ]
  },
  {
   "cell_type": "code",
   "execution_count": 3,
   "id": "45584b7c",
   "metadata": {},
   "outputs": [],
   "source": [
    "df = items1.sort_values(['timestamp'])groupby([\"itemid\",\"property\",\"value\"]).first().reset_index()\n",
    "df.to_csv(\"res.csv\", index=False)\n",
    "del items1"
   ]
  },
  {
   "cell_type": "code",
   "execution_count": 4,
   "id": "aaba631c",
   "metadata": {},
   "outputs": [],
   "source": [
    "dff = pd.read_csv('res.csv')"
   ]
  },
  {
   "cell_type": "code",
   "execution_count": 5,
   "id": "b07d0cdb",
   "metadata": {},
   "outputs": [],
   "source": [
    "iter_csv = pd.read_csv('res.csv', chunksize=100000)\n",
    "res = pd.concat([chunk[chunk['itemid'] == 264312] for chunk in iter_csv])"
   ]
  },
  {
   "cell_type": "code",
   "execution_count": 6,
   "id": "07f8584f",
   "metadata": {},
   "outputs": [
    {
     "data": {
      "text/html": [
       "<div>\n",
       "<style scoped>\n",
       "    .dataframe tbody tr th:only-of-type {\n",
       "        vertical-align: middle;\n",
       "    }\n",
       "\n",
       "    .dataframe tbody tr th {\n",
       "        vertical-align: top;\n",
       "    }\n",
       "\n",
       "    .dataframe thead th {\n",
       "        text-align: right;\n",
       "    }\n",
       "</style>\n",
       "<table border=\"1\" class=\"dataframe\">\n",
       "  <thead>\n",
       "    <tr style=\"text-align: right;\">\n",
       "      <th></th>\n",
       "      <th>itemid</th>\n",
       "      <th>property</th>\n",
       "      <th>value</th>\n",
       "      <th>timestamp</th>\n",
       "    </tr>\n",
       "  </thead>\n",
       "  <tbody>\n",
       "    <tr>\n",
       "      <th>3986303</th>\n",
       "      <td>264312</td>\n",
       "      <td>159</td>\n",
       "      <td>519769</td>\n",
       "      <td>1431226800000</td>\n",
       "    </tr>\n",
       "    <tr>\n",
       "      <th>3986304</th>\n",
       "      <td>264312</td>\n",
       "      <td>202</td>\n",
       "      <td>990678 265586 141325</td>\n",
       "      <td>1439694000000</td>\n",
       "    </tr>\n",
       "    <tr>\n",
       "      <th>3986305</th>\n",
       "      <td>264312</td>\n",
       "      <td>227</td>\n",
       "      <td>319724</td>\n",
       "      <td>1431831600000</td>\n",
       "    </tr>\n",
       "    <tr>\n",
       "      <th>3986306</th>\n",
       "      <td>264312</td>\n",
       "      <td>6</td>\n",
       "      <td>319724</td>\n",
       "      <td>1431831600000</td>\n",
       "    </tr>\n",
       "    <tr>\n",
       "      <th>3986307</th>\n",
       "      <td>264312</td>\n",
       "      <td>678</td>\n",
       "      <td>367680</td>\n",
       "      <td>1431226800000</td>\n",
       "    </tr>\n",
       "    <tr>\n",
       "      <th>3986308</th>\n",
       "      <td>264312</td>\n",
       "      <td>790</td>\n",
       "      <td>n29040.000</td>\n",
       "      <td>1435460400000</td>\n",
       "    </tr>\n",
       "    <tr>\n",
       "      <th>3986309</th>\n",
       "      <td>264312</td>\n",
       "      <td>839</td>\n",
       "      <td>367680</td>\n",
       "      <td>1432436400000</td>\n",
       "    </tr>\n",
       "    <tr>\n",
       "      <th>3986310</th>\n",
       "      <td>264312</td>\n",
       "      <td>888</td>\n",
       "      <td>990678 265586 141325</td>\n",
       "      <td>1433646000000</td>\n",
       "    </tr>\n",
       "    <tr>\n",
       "      <th>3986311</th>\n",
       "      <td>264312</td>\n",
       "      <td>888</td>\n",
       "      <td>990678 265586 141325 367680</td>\n",
       "      <td>1440903600000</td>\n",
       "    </tr>\n",
       "    <tr>\n",
       "      <th>3986312</th>\n",
       "      <td>264312</td>\n",
       "      <td>888</td>\n",
       "      <td>990678 265586 141325 59972 86628</td>\n",
       "      <td>1441508400000</td>\n",
       "    </tr>\n",
       "    <tr>\n",
       "      <th>3986313</th>\n",
       "      <td>264312</td>\n",
       "      <td>categoryid</td>\n",
       "      <td>1558</td>\n",
       "      <td>1431226800000</td>\n",
       "    </tr>\n",
       "  </tbody>\n",
       "</table>\n",
       "</div>"
      ],
      "text/plain": [
       "         itemid    property                             value      timestamp\n",
       "3986303  264312         159                            519769  1431226800000\n",
       "3986304  264312         202              990678 265586 141325  1439694000000\n",
       "3986305  264312         227                            319724  1431831600000\n",
       "3986306  264312           6                            319724  1431831600000\n",
       "3986307  264312         678                            367680  1431226800000\n",
       "3986308  264312         790                        n29040.000  1435460400000\n",
       "3986309  264312         839                            367680  1432436400000\n",
       "3986310  264312         888              990678 265586 141325  1433646000000\n",
       "3986311  264312         888       990678 265586 141325 367680  1440903600000\n",
       "3986312  264312         888  990678 265586 141325 59972 86628  1441508400000\n",
       "3986313  264312  categoryid                              1558  1431226800000"
      ]
     },
     "execution_count": 6,
     "metadata": {},
     "output_type": "execute_result"
    }
   ],
   "source": [
    "res"
   ]
  },
  {
   "cell_type": "code",
   "execution_count": 18,
   "id": "b3ea0bfa",
   "metadata": {
    "scrolled": false
   },
   "outputs": [],
   "source": [
    "#!/usr/bin/env python\n",
    "# coding: utf-8\n",
    "\n",
    "# In[12]:\n",
    "\n",
    "\n",
    "import pandas as pd\n",
    "from datetime import *\n",
    "from anytree import Node, RenderTree\n",
    "from collections import defaultdict\n",
    "\n",
    "\n",
    "# In[53]:\n",
    "\n",
    "\n",
    "items1  = pd.read_csv('category_tree.csv' , dtype={\"parentid\":str,\"categoryid\":str})\n",
    "\n",
    "\n",
    "# In[54]:\n",
    "\n",
    "\n",
    "main_roots = items1[items1.parentid.isna()].categoryid.tolist()\n",
    "items1 = items1[(items1.parentid.notna())]\n",
    "\n",
    "\n",
    "# In[55]:\n",
    "\n",
    "\n",
    "parent_child_dict = defaultdict(list)\n",
    "for index,row in items1.iterrows():\n",
    "        parent_child_dict[row['parentid']].append(row['categoryid'])\n",
    "\n",
    "\n",
    "# In[61]:\n",
    "\n",
    "\n",
    "def traverse1 (document , node):\n",
    "    for child in parent_child_dict[document]:\n",
    "        traverse1(child , Node(child , parent=node))\n",
    "\n",
    "\n",
    "# In[62]:\n",
    "\n",
    "\n",
    "prim = Node('root')\n",
    "for i in main_roots:\n",
    "    traverse1(i, Node(i, parent=prim))\n",
    "\n",
    "\n",
    "# In[63]:\n",
    "\n",
    "\n",
    "# for pre, fill, node in RenderTree(prim):\n",
    "#     print(\"%s%s\" % (pre, node.name))\n",
    "\n",
    "\n",
    "# In[67]:\n",
    "\n",
    "\n",
    "reduced_d = [k for k, v in parent_child_dict.items() if len(v) == 0]\n",
    "\n",
    "\n",
    "# In[68]:\n",
    "\n",
    "\n",
    "#reduced_d"
   ]
  },
  {
   "cell_type": "code",
   "execution_count": 19,
   "id": "37729f2f",
   "metadata": {},
   "outputs": [],
   "source": [
    "#reduced_d"
   ]
  },
  {
   "cell_type": "code",
   "execution_count": 20,
   "id": "e46ae718",
   "metadata": {},
   "outputs": [],
   "source": [
    "#set(categoryids)-set(reduced_d)"
   ]
  },
  {
   "cell_type": "code",
   "execution_count": 6,
   "id": "c104facb",
   "metadata": {},
   "outputs": [],
   "source": [
    "items1  = pd.read_csv('events.csv')"
   ]
  },
  {
   "cell_type": "code",
   "execution_count": 24,
   "id": "8378ad41",
   "metadata": {},
   "outputs": [],
   "source": [
    "items = items1[items1.event == \"transaction\"]\n",
    "items.to_csv(\"transaction.csv\", index=False)"
   ]
  },
  {
   "cell_type": "code",
   "execution_count": 10,
   "id": "821c5b29",
   "metadata": {},
   "outputs": [
    {
     "data": {
      "text/plain": [
       "Index(['timestamp', 'visitorid', 'event', 'itemid', 'transactionid'], dtype='object')"
      ]
     },
     "execution_count": 10,
     "metadata": {},
     "output_type": "execute_result"
    }
   ],
   "source": [
    "items1.columns"
   ]
  },
  {
   "cell_type": "code",
   "execution_count": 20,
   "id": "87e5d3e3",
   "metadata": {},
   "outputs": [
    {
     "data": {
      "text/plain": [
       "array(['view', 'addtocart', 'transaction'], dtype=object)"
      ]
     },
     "execution_count": 20,
     "metadata": {},
     "output_type": "execute_result"
    }
   ],
   "source": [
    "items1.event.unique()"
   ]
  },
  {
   "cell_type": "code",
   "execution_count": 28,
   "id": "a71de5f4",
   "metadata": {},
   "outputs": [
    {
     "data": {
      "text/plain": [
       "17672"
      ]
     },
     "execution_count": 28,
     "metadata": {},
     "output_type": "execute_result"
    }
   ],
   "source": [
    "len(items.transactionid.unique())"
   ]
  },
  {
   "cell_type": "code",
   "execution_count": 29,
   "id": "f3a846af",
   "metadata": {},
   "outputs": [
    {
     "data": {
      "text/plain": [
       "11719"
      ]
     },
     "execution_count": 29,
     "metadata": {},
     "output_type": "execute_result"
    }
   ],
   "source": [
    "len(items.visitorid.unique())"
   ]
  },
  {
   "cell_type": "code",
   "execution_count": 43,
   "id": "6a1931cd",
   "metadata": {},
   "outputs": [
    {
     "data": {
      "text/plain": [
       "visitorid\n",
       "172        1\n",
       "186        1\n",
       "264        1\n",
       "419        1\n",
       "539        1\n",
       "          ..\n",
       "1406787    1\n",
       "1406981    1\n",
       "1407070    1\n",
       "1407110    1\n",
       "1407398    1\n",
       "Name: transactionid, Length: 11719, dtype: int64"
      ]
     },
     "execution_count": 43,
     "metadata": {},
     "output_type": "execute_result"
    }
   ],
   "source": [
    "items.groupby('visitorid')['transactionid'].nunique()"
   ]
  },
  {
   "cell_type": "code",
   "execution_count": null,
   "id": "38c1d4db",
   "metadata": {},
   "outputs": [],
   "source": []
  }
 ],
 "metadata": {
  "kernelspec": {
   "display_name": "Python 3 (ipykernel)",
   "language": "python",
   "name": "python3"
  },
  "language_info": {
   "codemirror_mode": {
    "name": "ipython",
    "version": 3
   },
   "file_extension": ".py",
   "mimetype": "text/x-python",
   "name": "python",
   "nbconvert_exporter": "python",
   "pygments_lexer": "ipython3",
   "version": "3.10.0"
  },
  "varInspector": {
   "cols": {
    "lenName": 16,
    "lenType": 16,
    "lenVar": 40
   },
   "kernels_config": {
    "python": {
     "delete_cmd_postfix": "",
     "delete_cmd_prefix": "del ",
     "library": "var_list.py",
     "varRefreshCmd": "print(var_dic_list())"
    },
    "r": {
     "delete_cmd_postfix": ") ",
     "delete_cmd_prefix": "rm(",
     "library": "var_list.r",
     "varRefreshCmd": "cat(var_dic_list()) "
    }
   },
   "types_to_exclude": [
    "module",
    "function",
    "builtin_function_or_method",
    "instance",
    "_Feature"
   ],
   "window_display": false
  }
 },
 "nbformat": 4,
 "nbformat_minor": 5
}
