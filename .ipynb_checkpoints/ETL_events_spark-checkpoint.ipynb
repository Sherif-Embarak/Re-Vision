{
 "cells": [
  {
   "cell_type": "code",
   "execution_count": 1,
   "id": "67596a0b",
   "metadata": {},
   "outputs": [],
   "source": [
    "from pyspark.sql import SparkSession\n",
    "from pyspark.sql.types import StructType"
   ]
  },
  {
   "cell_type": "code",
   "execution_count": 2,
   "id": "62313a06",
   "metadata": {},
   "outputs": [],
   "source": [
    "spark = SparkSession.builder.appName(\"EventsSplit\").getOrCreate()"
   ]
  },
  {
   "cell_type": "code",
   "execution_count": 3,
   "id": "5d2e3962",
   "metadata": {},
   "outputs": [],
   "source": [
    "userSchema = StructType().add(\"timestamp\", \"string\").add(\"visitorid\", \"string\").add(\"event\", \"string\").add(\"itemid\", \"string\").add(\"transactionid\", \"string\")"
   ]
  },
  {
   "cell_type": "code",
   "execution_count": 4,
   "id": "fef40646",
   "metadata": {},
   "outputs": [],
   "source": [
    "dfCSV = spark.readStream.option(\"sep\", \",\").option(\"header\", \"false\").schema(userSchema).csv(\"file:///C:/tmp/text\")"
   ]
  },
  {
   "cell_type": "code",
   "execution_count": 5,
   "id": "b4d6cf64",
   "metadata": {},
   "outputs": [],
   "source": [
    "dfCSV.createOrReplaceTempView(\"events\")"
   ]
  },
  {
   "cell_type": "code",
   "execution_count": null,
   "id": "929941d7",
   "metadata": {},
   "outputs": [],
   "source": [
    "transaction = spark.sql(\"select * from events where event='transaction'\")\n",
    "events = spark.sql(\"select * from events where event<>'transaction'\")\n",
    "\n",
    "\n",
    "query1 = transaction.writeStream.format(\"console\").start()\n",
    "query2 = events.writeStream.format(\"console\").start()\n",
    "\n",
    "query1.awaitTermination()\n",
    "query2.awaitTermination()"
   ]
  }
 ],
 "metadata": {
  "kernelspec": {
   "display_name": "Python 3 (ipykernel)",
   "language": "python",
   "name": "python3"
  },
  "language_info": {
   "codemirror_mode": {
    "name": "ipython",
    "version": 3
   },
   "file_extension": ".py",
   "mimetype": "text/x-python",
   "name": "python",
   "nbconvert_exporter": "python",
   "pygments_lexer": "ipython3",
   "version": "3.10.5"
  }
 },
 "nbformat": 4,
 "nbformat_minor": 5
}
