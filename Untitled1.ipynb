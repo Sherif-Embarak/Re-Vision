{
 "cells": [
  {
   "cell_type": "code",
   "execution_count": 1,
   "id": "12ce6206",
   "metadata": {},
   "outputs": [],
   "source": [
    "import pandas as pd\n",
    "from datetime import *"
   ]
  },
  {
   "cell_type": "code",
   "execution_count": 2,
   "id": "4a895bc6",
   "metadata": {},
   "outputs": [],
   "source": [
    "items  = pd.read_csv('item_properties_part1.csv', usecols=['property'])\n",
    "constants = items['property'].unique().tolist()"
   ]
  },
  {
   "cell_type": "code",
   "execution_count": 3,
   "id": "4b7b8a83",
   "metadata": {},
   "outputs": [
    {
     "data": {
      "text/plain": [
       "1097"
      ]
     },
     "execution_count": 3,
     "metadata": {},
     "output_type": "execute_result"
    }
   ],
   "source": [
    "len(constants)"
   ]
  },
  {
   "cell_type": "code",
   "execution_count": 4,
   "id": "25b122e8",
   "metadata": {},
   "outputs": [],
   "source": [
    "constants1 = constants[1:4]"
   ]
  },
  {
   "cell_type": "code",
   "execution_count": 11,
   "id": "53ca0cbe",
   "metadata": {},
   "outputs": [
    {
     "name": "stdout",
     "output_type": "stream",
     "text": [
      "2022-06-09 17:16:37.393198  : Start ...\n",
      "\n",
      "244728\n",
      "343605\n",
      "37821\n",
      "430807\n",
      "225895\n",
      "277761\n",
      "15683\n",
      "231532\n",
      "225911\n",
      "26541\n",
      "178566\n",
      "216311\n",
      "7393\n",
      "588\n",
      "21173\n",
      "226502\n",
      "14135\n",
      "895\n",
      "40491\n",
      "278\n",
      "92381\n",
      "150037\n",
      "5643\n",
      "226242\n",
      "228872\n",
      "4182\n",
      "5857\n",
      "20600\n",
      "4960\n",
      "2883\n",
      "226102\n"
     ]
    },
    {
     "ename": "KeyboardInterrupt",
     "evalue": "",
     "output_type": "error",
     "traceback": [
      "\u001b[1;31m---------------------------------------------------------------------------\u001b[0m",
      "\u001b[1;31mKeyboardInterrupt\u001b[0m                         Traceback (most recent call last)",
      "\u001b[1;32mC:\\Users\\SEMBAR~1\\AppData\\Local\\Temp/ipykernel_15008/3562258305.py\u001b[0m in \u001b[0;36m<module>\u001b[1;34m\u001b[0m\n\u001b[0;32m      4\u001b[0m \u001b[1;32mfor\u001b[0m \u001b[0mi\u001b[0m \u001b[1;32min\u001b[0m \u001b[0mconstants\u001b[0m\u001b[1;33m:\u001b[0m\u001b[1;33m\u001b[0m\u001b[1;33m\u001b[0m\u001b[0m\n\u001b[0;32m      5\u001b[0m     \u001b[0miter_csv\u001b[0m \u001b[1;33m=\u001b[0m \u001b[0mpd\u001b[0m\u001b[1;33m.\u001b[0m\u001b[0mread_csv\u001b[0m\u001b[1;33m(\u001b[0m\u001b[1;34m'item_properties_part1.csv'\u001b[0m\u001b[1;33m,\u001b[0m \u001b[0mchunksize\u001b[0m\u001b[1;33m=\u001b[0m\u001b[1;36m100000\u001b[0m\u001b[1;33m)\u001b[0m\u001b[1;33m\u001b[0m\u001b[1;33m\u001b[0m\u001b[0m\n\u001b[1;32m----> 6\u001b[1;33m     \u001b[0mdf\u001b[0m \u001b[1;33m=\u001b[0m \u001b[0mpd\u001b[0m\u001b[1;33m.\u001b[0m\u001b[0mconcat\u001b[0m\u001b[1;33m(\u001b[0m\u001b[1;33m[\u001b[0m\u001b[0mchunk\u001b[0m\u001b[1;33m[\u001b[0m\u001b[0mchunk\u001b[0m\u001b[1;33m[\u001b[0m\u001b[1;34m'property'\u001b[0m\u001b[1;33m]\u001b[0m \u001b[1;33m==\u001b[0m \u001b[0mi\u001b[0m\u001b[1;33m]\u001b[0m \u001b[1;32mfor\u001b[0m \u001b[0mchunk\u001b[0m \u001b[1;32min\u001b[0m \u001b[0miter_csv\u001b[0m\u001b[1;33m]\u001b[0m\u001b[1;33m)\u001b[0m\u001b[1;33m\u001b[0m\u001b[1;33m\u001b[0m\u001b[0m\n\u001b[0m\u001b[0;32m      7\u001b[0m     \u001b[0mdf\u001b[0m \u001b[1;33m=\u001b[0m \u001b[0mdf\u001b[0m\u001b[1;33m.\u001b[0m\u001b[0mgroupby\u001b[0m\u001b[1;33m(\u001b[0m\u001b[1;33m[\u001b[0m\u001b[1;34m\"itemid\"\u001b[0m\u001b[1;33m,\u001b[0m\u001b[1;34m\"property\"\u001b[0m\u001b[1;33m,\u001b[0m\u001b[1;34m\"value\"\u001b[0m\u001b[1;33m]\u001b[0m\u001b[1;33m)\u001b[0m\u001b[1;33m.\u001b[0m\u001b[0mfirst\u001b[0m\u001b[1;33m(\u001b[0m\u001b[1;33m)\u001b[0m\u001b[1;33m.\u001b[0m\u001b[0mreset_index\u001b[0m\u001b[1;33m(\u001b[0m\u001b[1;33m)\u001b[0m\u001b[1;33m\u001b[0m\u001b[1;33m\u001b[0m\u001b[0m\n\u001b[0;32m      8\u001b[0m     \u001b[0mdf\u001b[0m\u001b[1;33m.\u001b[0m\u001b[0mto_csv\u001b[0m\u001b[1;33m(\u001b[0m\u001b[1;34m\"res.csv\"\u001b[0m\u001b[1;33m,\u001b[0m \u001b[0mheader\u001b[0m\u001b[1;33m=\u001b[0m\u001b[1;32mFalse\u001b[0m\u001b[1;33m,\u001b[0m \u001b[0mindex\u001b[0m\u001b[1;33m=\u001b[0m\u001b[1;32mFalse\u001b[0m\u001b[1;33m,\u001b[0m \u001b[0mmode\u001b[0m\u001b[1;33m=\u001b[0m\u001b[1;34m'a'\u001b[0m\u001b[1;33m)\u001b[0m\u001b[1;33m\u001b[0m\u001b[1;33m\u001b[0m\u001b[0m\n",
      "\u001b[1;32mC:\\Users\\SEMBAR~1\\AppData\\Local\\Temp/ipykernel_15008/3562258305.py\u001b[0m in \u001b[0;36m<listcomp>\u001b[1;34m(.0)\u001b[0m\n\u001b[0;32m      4\u001b[0m \u001b[1;32mfor\u001b[0m \u001b[0mi\u001b[0m \u001b[1;32min\u001b[0m \u001b[0mconstants\u001b[0m\u001b[1;33m:\u001b[0m\u001b[1;33m\u001b[0m\u001b[1;33m\u001b[0m\u001b[0m\n\u001b[0;32m      5\u001b[0m     \u001b[0miter_csv\u001b[0m \u001b[1;33m=\u001b[0m \u001b[0mpd\u001b[0m\u001b[1;33m.\u001b[0m\u001b[0mread_csv\u001b[0m\u001b[1;33m(\u001b[0m\u001b[1;34m'item_properties_part1.csv'\u001b[0m\u001b[1;33m,\u001b[0m \u001b[0mchunksize\u001b[0m\u001b[1;33m=\u001b[0m\u001b[1;36m100000\u001b[0m\u001b[1;33m)\u001b[0m\u001b[1;33m\u001b[0m\u001b[1;33m\u001b[0m\u001b[0m\n\u001b[1;32m----> 6\u001b[1;33m     \u001b[0mdf\u001b[0m \u001b[1;33m=\u001b[0m \u001b[0mpd\u001b[0m\u001b[1;33m.\u001b[0m\u001b[0mconcat\u001b[0m\u001b[1;33m(\u001b[0m\u001b[1;33m[\u001b[0m\u001b[0mchunk\u001b[0m\u001b[1;33m[\u001b[0m\u001b[0mchunk\u001b[0m\u001b[1;33m[\u001b[0m\u001b[1;34m'property'\u001b[0m\u001b[1;33m]\u001b[0m \u001b[1;33m==\u001b[0m \u001b[0mi\u001b[0m\u001b[1;33m]\u001b[0m \u001b[1;32mfor\u001b[0m \u001b[0mchunk\u001b[0m \u001b[1;32min\u001b[0m \u001b[0miter_csv\u001b[0m\u001b[1;33m]\u001b[0m\u001b[1;33m)\u001b[0m\u001b[1;33m\u001b[0m\u001b[1;33m\u001b[0m\u001b[0m\n\u001b[0m\u001b[0;32m      7\u001b[0m     \u001b[0mdf\u001b[0m \u001b[1;33m=\u001b[0m \u001b[0mdf\u001b[0m\u001b[1;33m.\u001b[0m\u001b[0mgroupby\u001b[0m\u001b[1;33m(\u001b[0m\u001b[1;33m[\u001b[0m\u001b[1;34m\"itemid\"\u001b[0m\u001b[1;33m,\u001b[0m\u001b[1;34m\"property\"\u001b[0m\u001b[1;33m,\u001b[0m\u001b[1;34m\"value\"\u001b[0m\u001b[1;33m]\u001b[0m\u001b[1;33m)\u001b[0m\u001b[1;33m.\u001b[0m\u001b[0mfirst\u001b[0m\u001b[1;33m(\u001b[0m\u001b[1;33m)\u001b[0m\u001b[1;33m.\u001b[0m\u001b[0mreset_index\u001b[0m\u001b[1;33m(\u001b[0m\u001b[1;33m)\u001b[0m\u001b[1;33m\u001b[0m\u001b[1;33m\u001b[0m\u001b[0m\n\u001b[0;32m      8\u001b[0m     \u001b[0mdf\u001b[0m\u001b[1;33m.\u001b[0m\u001b[0mto_csv\u001b[0m\u001b[1;33m(\u001b[0m\u001b[1;34m\"res.csv\"\u001b[0m\u001b[1;33m,\u001b[0m \u001b[0mheader\u001b[0m\u001b[1;33m=\u001b[0m\u001b[1;32mFalse\u001b[0m\u001b[1;33m,\u001b[0m \u001b[0mindex\u001b[0m\u001b[1;33m=\u001b[0m\u001b[1;32mFalse\u001b[0m\u001b[1;33m,\u001b[0m \u001b[0mmode\u001b[0m\u001b[1;33m=\u001b[0m\u001b[1;34m'a'\u001b[0m\u001b[1;33m)\u001b[0m\u001b[1;33m\u001b[0m\u001b[1;33m\u001b[0m\u001b[0m\n",
      "\u001b[1;32m~\\Downloads\\programs\\py310\\lib\\site-packages\\pandas\\core\\frame.py\u001b[0m in \u001b[0;36m__getitem__\u001b[1;34m(self, key)\u001b[0m\n\u001b[0;32m   3447\u001b[0m         \u001b[1;31m# Do we have a (boolean) 1d indexer?\u001b[0m\u001b[1;33m\u001b[0m\u001b[1;33m\u001b[0m\u001b[0m\n\u001b[0;32m   3448\u001b[0m         \u001b[1;32mif\u001b[0m \u001b[0mcom\u001b[0m\u001b[1;33m.\u001b[0m\u001b[0mis_bool_indexer\u001b[0m\u001b[1;33m(\u001b[0m\u001b[0mkey\u001b[0m\u001b[1;33m)\u001b[0m\u001b[1;33m:\u001b[0m\u001b[1;33m\u001b[0m\u001b[1;33m\u001b[0m\u001b[0m\n\u001b[1;32m-> 3449\u001b[1;33m             \u001b[1;32mreturn\u001b[0m \u001b[0mself\u001b[0m\u001b[1;33m.\u001b[0m\u001b[0m_getitem_bool_array\u001b[0m\u001b[1;33m(\u001b[0m\u001b[0mkey\u001b[0m\u001b[1;33m)\u001b[0m\u001b[1;33m\u001b[0m\u001b[1;33m\u001b[0m\u001b[0m\n\u001b[0m\u001b[0;32m   3450\u001b[0m \u001b[1;33m\u001b[0m\u001b[0m\n\u001b[0;32m   3451\u001b[0m         \u001b[1;31m# We are left with two options: a single key, and a collection of keys,\u001b[0m\u001b[1;33m\u001b[0m\u001b[1;33m\u001b[0m\u001b[0m\n",
      "\u001b[1;32m~\\Downloads\\programs\\py310\\lib\\site-packages\\pandas\\core\\frame.py\u001b[0m in \u001b[0;36m_getitem_bool_array\u001b[1;34m(self, key)\u001b[0m\n\u001b[0;32m   3501\u001b[0m         \u001b[1;31m# be reindexed to match DataFrame rows\u001b[0m\u001b[1;33m\u001b[0m\u001b[1;33m\u001b[0m\u001b[0m\n\u001b[0;32m   3502\u001b[0m         \u001b[0mkey\u001b[0m \u001b[1;33m=\u001b[0m \u001b[0mcheck_bool_indexer\u001b[0m\u001b[1;33m(\u001b[0m\u001b[0mself\u001b[0m\u001b[1;33m.\u001b[0m\u001b[0mindex\u001b[0m\u001b[1;33m,\u001b[0m \u001b[0mkey\u001b[0m\u001b[1;33m)\u001b[0m\u001b[1;33m\u001b[0m\u001b[1;33m\u001b[0m\u001b[0m\n\u001b[1;32m-> 3503\u001b[1;33m         \u001b[0mindexer\u001b[0m \u001b[1;33m=\u001b[0m \u001b[0mkey\u001b[0m\u001b[1;33m.\u001b[0m\u001b[0mnonzero\u001b[0m\u001b[1;33m(\u001b[0m\u001b[1;33m)\u001b[0m\u001b[1;33m[\u001b[0m\u001b[1;36m0\u001b[0m\u001b[1;33m]\u001b[0m\u001b[1;33m\u001b[0m\u001b[1;33m\u001b[0m\u001b[0m\n\u001b[0m\u001b[0;32m   3504\u001b[0m         \u001b[1;32mreturn\u001b[0m \u001b[0mself\u001b[0m\u001b[1;33m.\u001b[0m\u001b[0m_take_with_is_copy\u001b[0m\u001b[1;33m(\u001b[0m\u001b[0mindexer\u001b[0m\u001b[1;33m,\u001b[0m \u001b[0maxis\u001b[0m\u001b[1;33m=\u001b[0m\u001b[1;36m0\u001b[0m\u001b[1;33m)\u001b[0m\u001b[1;33m\u001b[0m\u001b[1;33m\u001b[0m\u001b[0m\n\u001b[0;32m   3505\u001b[0m \u001b[1;33m\u001b[0m\u001b[0m\n",
      "\u001b[1;31mKeyboardInterrupt\u001b[0m: "
     ]
    }
   ],
   "source": [
    "start = datetime.now()\n",
    "print(start, \" : Start ...\\n\")\n",
    "########################################################\n",
    "for i in constants:\n",
    "    iter_csv = pd.read_csv('item_properties_part1.csv', chunksize=100000)\n",
    "    df = pd.concat([chunk[chunk['property'] == i] for chunk in iter_csv])\n",
    "    df = df.groupby([\"itemid\",\"property\",\"value\"]).first().reset_index()\n",
    "    df.to_csv(\"res.csv\", header=False, index=False, mode='a')\n",
    "    print(len(df))\n",
    "    \n",
    "########################################################\n",
    "print()\n",
    "end = datetime.now()\n",
    "print(end, \" : End.\")\n",
    "print(\"Execution Time : \", (end - start))"
   ]
  },
  {
   "cell_type": "code",
   "execution_count": 7,
   "id": "20de30c7",
   "metadata": {},
   "outputs": [],
   "source": [
    "iter_csv = pd.read_csv('res.csv', chunksize=100000, names=[\"itemid\",\"property\",\"value\",\"timestamp\"])\n",
    "df = pd.concat([chunk[chunk['itemid'] == 264312] for chunk in iter_csv])"
   ]
  },
  {
   "cell_type": "code",
   "execution_count": 9,
   "id": "ca7c2798",
   "metadata": {},
   "outputs": [],
   "source": [
    "df =\"\""
   ]
  },
  {
   "cell_type": "code",
   "execution_count": 2,
   "id": "9e5dac24",
   "metadata": {},
   "outputs": [],
   "source": [
    "items1  = pd.read_csv('item_properties_part1.csv')"
   ]
  },
  {
   "cell_type": "code",
   "execution_count": 3,
   "id": "cd753813",
   "metadata": {},
   "outputs": [],
   "source": [
    "df = items1.groupby([\"itemid\",\"property\",\"value\"]).first().reset_index()\n",
    "df.to_csv(\"res.csv\", index=False)\n",
    "del items1"
   ]
  },
  {
   "cell_type": "code",
   "execution_count": 4,
   "id": "2b4acae7",
   "metadata": {},
   "outputs": [],
   "source": [
    "dff = pd.read_csv('res.csv')"
   ]
  },
  {
   "cell_type": "code",
   "execution_count": 5,
   "id": "842720a0",
   "metadata": {},
   "outputs": [],
   "source": [
    "iter_csv = pd.read_csv('res.csv', chunksize=100000)\n",
    "res = pd.concat([chunk[chunk['itemid'] == 264312] for chunk in iter_csv])"
   ]
  },
  {
   "cell_type": "code",
   "execution_count": 6,
   "id": "bd9da9bb",
   "metadata": {},
   "outputs": [
    {
     "data": {
      "text/html": [
       "<div>\n",
       "<style scoped>\n",
       "    .dataframe tbody tr th:only-of-type {\n",
       "        vertical-align: middle;\n",
       "    }\n",
       "\n",
       "    .dataframe tbody tr th {\n",
       "        vertical-align: top;\n",
       "    }\n",
       "\n",
       "    .dataframe thead th {\n",
       "        text-align: right;\n",
       "    }\n",
       "</style>\n",
       "<table border=\"1\" class=\"dataframe\">\n",
       "  <thead>\n",
       "    <tr style=\"text-align: right;\">\n",
       "      <th></th>\n",
       "      <th>itemid</th>\n",
       "      <th>property</th>\n",
       "      <th>value</th>\n",
       "      <th>timestamp</th>\n",
       "    </tr>\n",
       "  </thead>\n",
       "  <tbody>\n",
       "    <tr>\n",
       "      <th>3986303</th>\n",
       "      <td>264312</td>\n",
       "      <td>159</td>\n",
       "      <td>519769</td>\n",
       "      <td>1431226800000</td>\n",
       "    </tr>\n",
       "    <tr>\n",
       "      <th>3986304</th>\n",
       "      <td>264312</td>\n",
       "      <td>202</td>\n",
       "      <td>990678 265586 141325</td>\n",
       "      <td>1439694000000</td>\n",
       "    </tr>\n",
       "    <tr>\n",
       "      <th>3986305</th>\n",
       "      <td>264312</td>\n",
       "      <td>227</td>\n",
       "      <td>319724</td>\n",
       "      <td>1431831600000</td>\n",
       "    </tr>\n",
       "    <tr>\n",
       "      <th>3986306</th>\n",
       "      <td>264312</td>\n",
       "      <td>6</td>\n",
       "      <td>319724</td>\n",
       "      <td>1431831600000</td>\n",
       "    </tr>\n",
       "    <tr>\n",
       "      <th>3986307</th>\n",
       "      <td>264312</td>\n",
       "      <td>678</td>\n",
       "      <td>367680</td>\n",
       "      <td>1431226800000</td>\n",
       "    </tr>\n",
       "    <tr>\n",
       "      <th>3986308</th>\n",
       "      <td>264312</td>\n",
       "      <td>790</td>\n",
       "      <td>n29040.000</td>\n",
       "      <td>1435460400000</td>\n",
       "    </tr>\n",
       "    <tr>\n",
       "      <th>3986309</th>\n",
       "      <td>264312</td>\n",
       "      <td>839</td>\n",
       "      <td>367680</td>\n",
       "      <td>1432436400000</td>\n",
       "    </tr>\n",
       "    <tr>\n",
       "      <th>3986310</th>\n",
       "      <td>264312</td>\n",
       "      <td>888</td>\n",
       "      <td>990678 265586 141325</td>\n",
       "      <td>1433646000000</td>\n",
       "    </tr>\n",
       "    <tr>\n",
       "      <th>3986311</th>\n",
       "      <td>264312</td>\n",
       "      <td>888</td>\n",
       "      <td>990678 265586 141325 367680</td>\n",
       "      <td>1440903600000</td>\n",
       "    </tr>\n",
       "    <tr>\n",
       "      <th>3986312</th>\n",
       "      <td>264312</td>\n",
       "      <td>888</td>\n",
       "      <td>990678 265586 141325 59972 86628</td>\n",
       "      <td>1441508400000</td>\n",
       "    </tr>\n",
       "    <tr>\n",
       "      <th>3986313</th>\n",
       "      <td>264312</td>\n",
       "      <td>categoryid</td>\n",
       "      <td>1558</td>\n",
       "      <td>1431226800000</td>\n",
       "    </tr>\n",
       "  </tbody>\n",
       "</table>\n",
       "</div>"
      ],
      "text/plain": [
       "         itemid    property                             value      timestamp\n",
       "3986303  264312         159                            519769  1431226800000\n",
       "3986304  264312         202              990678 265586 141325  1439694000000\n",
       "3986305  264312         227                            319724  1431831600000\n",
       "3986306  264312           6                            319724  1431831600000\n",
       "3986307  264312         678                            367680  1431226800000\n",
       "3986308  264312         790                        n29040.000  1435460400000\n",
       "3986309  264312         839                            367680  1432436400000\n",
       "3986310  264312         888              990678 265586 141325  1433646000000\n",
       "3986311  264312         888       990678 265586 141325 367680  1440903600000\n",
       "3986312  264312         888  990678 265586 141325 59972 86628  1441508400000\n",
       "3986313  264312  categoryid                              1558  1431226800000"
      ]
     },
     "execution_count": 6,
     "metadata": {},
     "output_type": "execute_result"
    }
   ],
   "source": [
    "res"
   ]
  },
  {
   "cell_type": "code",
   "execution_count": null,
   "id": "85897c01",
   "metadata": {},
   "outputs": [],
   "source": []
  }
 ],
 "metadata": {
  "kernelspec": {
   "display_name": "Python 3 (ipykernel)",
   "language": "python",
   "name": "python3"
  },
  "language_info": {
   "codemirror_mode": {
    "name": "ipython",
    "version": 3
   },
   "file_extension": ".py",
   "mimetype": "text/x-python",
   "name": "python",
   "nbconvert_exporter": "python",
   "pygments_lexer": "ipython3",
   "version": "3.10.0"
  },
  "varInspector": {
   "cols": {
    "lenName": 16,
    "lenType": 16,
    "lenVar": 40
   },
   "kernels_config": {
    "python": {
     "delete_cmd_postfix": "",
     "delete_cmd_prefix": "del ",
     "library": "var_list.py",
     "varRefreshCmd": "print(var_dic_list())"
    },
    "r": {
     "delete_cmd_postfix": ") ",
     "delete_cmd_prefix": "rm(",
     "library": "var_list.r",
     "varRefreshCmd": "cat(var_dic_list()) "
    }
   },
   "types_to_exclude": [
    "module",
    "function",
    "builtin_function_or_method",
    "instance",
    "_Feature"
   ],
   "window_display": false
  }
 },
 "nbformat": 4,
 "nbformat_minor": 5
}
