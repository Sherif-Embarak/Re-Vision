{
 "cells": [
  {
   "cell_type": "code",
   "execution_count": 1,
   "id": "01d74f1f",
   "metadata": {},
   "outputs": [],
   "source": [
    "import pandas as pd"
   ]
  },
  {
   "cell_type": "code",
   "execution_count": 2,
   "id": "b94c448c",
   "metadata": {},
   "outputs": [],
   "source": [
    "events  = pd.read_csv('events.csv')"
   ]
  },
  {
   "cell_type": "code",
   "execution_count": 3,
   "id": "6f4448cd",
   "metadata": {},
   "outputs": [],
   "source": [
    "transactions = events[events.event == \"transaction\"]\n",
    "transactions.to_csv(\"out_transaction.csv\", index=False)\n",
    "del transactions"
   ]
  },
  {
   "cell_type": "code",
   "execution_count": 4,
   "id": "0521b165",
   "metadata": {},
   "outputs": [],
   "source": [
    "events = events[events.event != \"transaction\"].drop('transactionid', axis=1)\n",
    "events.to_csv(\"out_events.csv\", index=False)\n",
    "del events"
   ]
  },
  {
   "cell_type": "code",
   "execution_count": null,
   "id": "e036e51f",
   "metadata": {},
   "outputs": [],
   "source": []
  }
 ],
 "metadata": {
  "kernelspec": {
   "display_name": "Python 3 (ipykernel)",
   "language": "python",
   "name": "python3"
  },
  "language_info": {
   "codemirror_mode": {
    "name": "ipython",
    "version": 3
   },
   "file_extension": ".py",
   "mimetype": "text/x-python",
   "name": "python",
   "nbconvert_exporter": "python",
   "pygments_lexer": "ipython3",
   "version": "3.10.5"
  }
 },
 "nbformat": 4,
 "nbformat_minor": 5
}
