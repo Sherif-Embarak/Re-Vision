{
 "cells": [
  {
   "cell_type": "code",
   "execution_count": 1,
   "id": "489a007c",
   "metadata": {},
   "outputs": [],
   "source": [
    "import pandas as pd\n",
    "from datetime import *\n",
    "from anytree import Node, RenderTree,PreOrderIter\n",
    "from collections import defaultdict"
   ]
  },
  {
   "cell_type": "code",
   "execution_count": 2,
   "id": "38bb4d06",
   "metadata": {},
   "outputs": [],
   "source": [
    "fileName = 'category_tree.csv'\n",
    "colTypes = {\"parentid\":str,\"categoryid\":str}\n",
    "CategoryDF  = pd.read_csv( fileName , dtype=colTypes)"
   ]
  },
  {
   "cell_type": "code",
   "execution_count": 3,
   "id": "7dfd68d2",
   "metadata": {},
   "outputs": [],
   "source": [
    "main_roots = CategoryDF[CategoryDF.parentid.isna()].categoryid.tolist()\n",
    "CategoryDF = CategoryDF[(CategoryDF.parentid.notna())]"
   ]
  },
  {
   "cell_type": "code",
   "execution_count": 4,
   "id": "aa660b2f",
   "metadata": {},
   "outputs": [],
   "source": [
    "parent_child_dict = defaultdict(list)\n",
    "for index,row in CategoryDF.iterrows():\n",
    "        parent_child_dict[row['parentid']].append(row['categoryid'])"
   ]
  },
  {
   "cell_type": "code",
   "execution_count": 5,
   "id": "16b82fdf",
   "metadata": {},
   "outputs": [],
   "source": [
    "outDict = defaultdict(list)\n",
    "def DFStraverse (value , parent , dep):\n",
    "    outDict[value].append(parent)\n",
    "    for child in parent_child_dict[value]:\n",
    "        DFStraverse(child , parent+[(value,dep)] , dep+1)"
   ]
  },
  {
   "cell_type": "code",
   "execution_count": 6,
   "id": "eefb6809",
   "metadata": {},
   "outputs": [],
   "source": [
    "for i in main_roots:\n",
    "    DFStraverse(i, [] , 1)"
   ]
  },
  {
   "cell_type": "code",
   "execution_count": 7,
   "id": "245562ac",
   "metadata": {},
   "outputs": [],
   "source": [
    "#outDict\n",
    "# defaultdict(list,\n",
    "#             {'HOME & KITCHEN': [[]],\n",
    "#              'HOME': [[('HOME & KITCHEN', 1)]],\n",
    "#              'Refrigerators': [[('HOME & KITCHEN', 1), ('HOME', 2)]],\n",
    "#              'OVEN': [[('HOME & KITCHEN', 1), ('HOME', 2)]],\n",
    "#              'built-in': [[('HOME & KITCHEN', 1), ('HOME', 2), ('OVEN', 3)]],\n",
    "#              'stand': [[('HOME & KITCHEN', 1), ('HOME', 2), ('OVEN', 3)]],\n",
    "#              'DISH Washer': [[('HOME & KITCHEN', 1), ('HOME', 2)]],\n",
    "#              'KITCHEN': [[('HOME & KITCHEN', 1)]],\n",
    "#              'Microwave': [[('HOME & KITCHEN', 1), ('KITCHEN', 2)]],\n",
    "#              'Coffee Machine': [[('HOME & KITCHEN', 1), ('KITCHEN', 2)]],\n",
    "#              'House': [[('HOME & KITCHEN', 1)]]})"
   ]
  },
  {
   "cell_type": "code",
   "execution_count": 8,
   "id": "be17fd4a",
   "metadata": {},
   "outputs": [],
   "source": [
    "df = {}\n",
    "i = 0\n",
    "outColumns = ['categoryid', 'parentid', 'parent_depth']\n",
    "for key,value in outDict.items():\n",
    "    for j in value[0]:\n",
    "        df[i] = {outColumns[0]: key, outColumns[1]: j[0], outColumns[2]: j[1]}\n",
    "        i = i + 1\n",
    "        \n",
    "for root in main_roots:\n",
    "        df[i] = {outColumns[0]: root, outColumns[1]: '', outColumns[2]: 0}\n",
    "        i = i + 1\n",
    "df = pd.DataFrame.from_dict(df, \"index\")"
   ]
  },
  {
   "cell_type": "code",
   "execution_count": 9,
   "id": "50258796",
   "metadata": {},
   "outputs": [],
   "source": [
    "df.to_csv(\"outCategoryTree.csv\" , index=False)"
   ]
  },
  {
   "cell_type": "code",
   "execution_count": null,
   "id": "c77df403",
   "metadata": {},
   "outputs": [],
   "source": []
  }
 ],
 "metadata": {
  "kernelspec": {
   "display_name": "Python 3 (ipykernel)",
   "language": "python",
   "name": "python3"
  },
  "language_info": {
   "codemirror_mode": {
    "name": "ipython",
    "version": 3
   },
   "file_extension": ".py",
   "mimetype": "text/x-python",
   "name": "python",
   "nbconvert_exporter": "python",
   "pygments_lexer": "ipython3",
   "version": "3.10.0"
  },
  "varInspector": {
   "cols": {
    "lenName": 16,
    "lenType": 16,
    "lenVar": 40
   },
   "kernels_config": {
    "python": {
     "delete_cmd_postfix": "",
     "delete_cmd_prefix": "del ",
     "library": "var_list.py",
     "varRefreshCmd": "print(var_dic_list())"
    },
    "r": {
     "delete_cmd_postfix": ") ",
     "delete_cmd_prefix": "rm(",
     "library": "var_list.r",
     "varRefreshCmd": "cat(var_dic_list()) "
    }
   },
   "types_to_exclude": [
    "module",
    "function",
    "builtin_function_or_method",
    "instance",
    "_Feature"
   ],
   "window_display": false
  }
 },
 "nbformat": 4,
 "nbformat_minor": 5
}
